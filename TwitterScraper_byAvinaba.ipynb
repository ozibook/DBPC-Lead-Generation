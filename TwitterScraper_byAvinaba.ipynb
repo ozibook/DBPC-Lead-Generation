{
  "cells": [
    {
      "cell_type": "code",
      "execution_count": null,
      "metadata": {
        "id": "J94wHTEGZQl7"
      },
      "outputs": [],
      "source": [
        "# run this cell if you are running this code for first time\n",
        "\n",
        "!pip install tweepy --quiet\n",
        "!pip install configparser --quiet"
      ]
    },
    {
      "cell_type": "code",
      "execution_count": null,
      "metadata": {
        "id": "JXDKRAX46zsF"
      },
      "outputs": [],
      "source": [
        "import tweepy\n",
        "import pandas as pd\n",
        "import configparser"
      ]
    },
    {
      "cell_type": "code",
      "execution_count": null,
      "metadata": {
        "colab": {
          "base_uri": "https://localhost:8080/"
        },
        "id": "KFOSi5H32Q-F",
        "outputId": "63b50dd0-9d72-4eab-a42e-f1ca82c2839b"
      },
      "outputs": [
        {
          "name": "stdout",
          "output_type": "stream",
          "text": [
            "The number of usernames is : 11\n"
          ]
        }
      ],
      "source": [
        "#@title When you are provided with a CSV file, containing the usernames\n",
        "\n",
        "df = pd.read_excel('/content/Experiment_sheet.xlsx') # CSV file after getting from Phantom Buster\n",
        "\n",
        "usernames = df.iloc[:,0].tolist()   #extracting the usernames\n",
        "print(\"The number of usernames is :\", len(usernames))\n"
      ]
    },
    {
      "cell_type": "code",
      "execution_count": null,
      "metadata": {
        "colab": {
          "base_uri": "https://localhost:8080/"
        },
        "id": "S9K2CLx9b2rb",
        "outputId": "c264d7ea-8648-420a-b8e5-c2ef087755b3"
      },
      "outputs": [
        {
          "data": {
            "text/plain": [
              "['virtualciti',\n",
              " 'H_P_Alchemy',\n",
              " 'StefanPowell',\n",
              " 'satishraoBN',\n",
              " 'COACH_Shaji',\n",
              " 'carolmcoaching',\n",
              " '_Jeff_Patterson',\n",
              " 'ThinkStatice',\n",
              " 'execcoach4u',\n",
              " 'TheElevarGroup',\n",
              " 'DanielInspires']"
            ]
          },
          "execution_count": 28,
          "metadata": {},
          "output_type": "execute_result"
        }
      ],
      "source": [
        "usernames"
      ]
    },
    {
      "cell_type": "code",
      "execution_count": null,
      "metadata": {
        "colab": {
          "base_uri": "https://localhost:8080/"
        },
        "id": "IXuF3Vc564HS",
        "outputId": "83f11be6-bd0f-4179-aa6e-a69cda48b5b1"
      },
      "outputs": [
        {
          "data": {
            "text/plain": [
              "['config.ini']"
            ]
          },
          "execution_count": 18,
          "metadata": {},
          "output_type": "execute_result"
        }
      ],
      "source": [
        "config = configparser.ConfigParser()\n",
        "config.read('config.ini')"
      ]
    },
    {
      "cell_type": "code",
      "execution_count": null,
      "metadata": {
        "id": "0KjS8sLt-ypY"
      },
      "outputs": [],
      "source": [
        "api_key = config['twitter']['api_key']\n",
        "api_key_secret = config['twitter']['api_key_secret']\n",
        "access_token = config['twitter']['access_token']\n",
        "access_token_secret = config['twitter']['access_token_secret']\n",
        "# bearer_token = config['twitter']['bearer_token']"
      ]
    },
    {
      "cell_type": "code",
      "execution_count": null,
      "metadata": {
        "id": "AXgoXzvsMvbu"
      },
      "outputs": [],
      "source": [
        "# Usrname Validation Function\n",
        "def username_validation(usernames, users):\n",
        "  allusers = []\n",
        "  for i in users:\n",
        "    allusers.append(i.screen_name)\n",
        "\n",
        "  lc = [x for x in usernames if x not in allusers]\n",
        "  if len(lc)>0:\n",
        "    print(\"This usernames are not available to be scraped :\", lc, end=\"\\n\\nscrape\")\n",
        "  else:\n",
        "    print(\"All usernames are available to be scraped\")"
      ]
    },
    {
      "cell_type": "code",
      "execution_count": null,
      "metadata": {
        "colab": {
          "base_uri": "https://localhost:8080/"
        },
        "id": "XuSxQWOAAl99",
        "outputId": "9f0da226-4699-4ff7-ba77-4733f57b0fe9"
      },
      "outputs": [
        {
          "name": "stdout",
          "output_type": "stream",
          "text": [
            "All usernames are available to be scraped\n"
          ]
        }
      ],
      "source": [
        "\n",
        "# authorization of consumer key and consumer secret\n",
        "auth = tweepy.OAuthHandler(api_key, api_key_secret)\n",
        "\n",
        "# set access to user's access key and access secret\n",
        "auth.set_access_token(access_token, access_token_secret)\n",
        "\n",
        "# calling the api\n",
        "api = tweepy.API(auth)\n",
        "\n",
        "\n",
        "# getting the users by their usernames\n",
        "users = api.lookup_users(screen_name= usernames)\n",
        "\n",
        "username_validation(usernames, users) #calling the function\n",
        "\n",
        "# defining lists\n",
        "id = []\n",
        "name = []\n",
        "username = []\n",
        "followers = []\n",
        "followings = []\n",
        "location = []\n",
        "description = []\n",
        "asociated_url = []\n",
        "tweets_count = []\n",
        "favorites_count = []\n",
        "created_at=[]\n",
        "\n",
        "for user in users:\n",
        "  id.append(user.id_str)\n",
        "  name.append(user.name)\n",
        "  username.append(user.screen_name)\n",
        "  followers.append(user.followers_count)\n",
        "  followings.append(user.friends_count)\n",
        "  location.append(user.location)\n",
        "  description.append(user.description)\n",
        "  asociated_url.append(user.url)\n",
        "  tweets_count.append(user.statuses_count)\n",
        "  favorites_count.append(user.favourites_count)\n",
        "  created_at.append(user.created_at.date())\n",
        "\n",
        "\n",
        "\n",
        "df = pd.DataFrame({\n",
        "  # 'id': id,\n",
        "  'Username': username,\n",
        "  'Name': name,\n",
        "  'Followers': followers,\n",
        "  # 'followings': followings,\n",
        "  'Location': location,\n",
        "  'Bio': description,\n",
        "  'asociated_url': asociated_url,\n",
        "  # 'tweets_count': tweets_count,\n",
        "  # 'favorites_count': favorites_count,\n",
        "  'Joined': created_at\n",
        "\n",
        "})\n",
        "\n",
        "\n",
        "\n",
        "# saving the dataframe into a csv file\n",
        "df.to_csv('Twitter_profiles.csv') #change the name of the csv file as per your need\n",
        "\n",
        "\n",
        "# Some other attributes we can get:\n",
        "# '''  print(\"The number of public lists that this user is a member of:\", user.listed_count)\n",
        "#   print(\"Favorites_count:\", user.favourites_count)\n",
        "#   print(\"profile image:\", user.profile_image_url_https, end=\"\\n\\n\")\n",
        "#   print(\"Protection:\", user.protected)\n",
        "#   print(\"Verified:\", user.verified)'''"
      ]
    },
    {
      "cell_type": "code",
      "execution_count": null,
      "metadata": {
        "colab": {
          "base_uri": "https://localhost:8080/",
          "height": 206
        },
        "id": "WfqfCJ3CFPOU",
        "outputId": "44afbe33-982f-4b6c-99a4-4f9e0d90920e"
      },
      "outputs": [
        {
          "data": {
            "text/html": [
              "\n",
              "  <div id=\"df-b30ce7af-271b-4354-b07e-49509d69dbef\" class=\"colab-df-container\">\n",
              "    <div>\n",
              "<style scoped>\n",
              "    .dataframe tbody tr th:only-of-type {\n",
              "        vertical-align: middle;\n",
              "    }\n",
              "\n",
              "    .dataframe tbody tr th {\n",
              "        vertical-align: top;\n",
              "    }\n",
              "\n",
              "    .dataframe thead th {\n",
              "        text-align: right;\n",
              "    }\n",
              "</style>\n",
              "<table border=\"1\" class=\"dataframe\">\n",
              "  <thead>\n",
              "    <tr style=\"text-align: right;\">\n",
              "      <th></th>\n",
              "      <th>Username</th>\n",
              "      <th>Name</th>\n",
              "      <th>Followers</th>\n",
              "      <th>Location</th>\n",
              "      <th>Bio</th>\n",
              "      <th>asociated_url</th>\n",
              "      <th>Joined</th>\n",
              "    </tr>\n",
              "  </thead>\n",
              "  <tbody>\n",
              "    <tr>\n",
              "      <th>0</th>\n",
              "      <td>virtualciti</td>\n",
              "      <td>Vineet</td>\n",
              "      <td>540</td>\n",
              "      <td>Chandigarh</td>\n",
              "      <td>I have not told my story yet</td>\n",
              "      <td>https://t.co/LTtK5IvXi3</td>\n",
              "      <td>2009-06-08</td>\n",
              "    </tr>\n",
              "    <tr>\n",
              "      <th>1</th>\n",
              "      <td>H_P_Alchemy</td>\n",
              "      <td>High Performance Alchemy</td>\n",
              "      <td>5</td>\n",
              "      <td>Bangalore</td>\n",
              "      <td>\"The Inner Game\"​ Intervention Professional Tr...</td>\n",
              "      <td>https://t.co/JliyHShlrO</td>\n",
              "      <td>2023-05-26</td>\n",
              "    </tr>\n",
              "    <tr>\n",
              "      <th>2</th>\n",
              "      <td>StefanPowell</td>\n",
              "      <td>Stefan Powell</td>\n",
              "      <td>2735</td>\n",
              "      <td>Ventnor, Isle of Wight</td>\n",
              "      <td>Exec &amp; Leadership Coach https://t.co/ubWLzpjjv...</td>\n",
              "      <td>https://t.co/VgEB2WNmgm</td>\n",
              "      <td>2009-05-15</td>\n",
              "    </tr>\n",
              "    <tr>\n",
              "      <th>3</th>\n",
              "      <td>satishraoBN</td>\n",
              "      <td>Satish Rao</td>\n",
              "      <td>470</td>\n",
              "      <td>INDIA</td>\n",
              "      <td>Changing the world one person at a time. Are y...</td>\n",
              "      <td>https://t.co/ga0VtUcdTJ</td>\n",
              "      <td>2012-02-18</td>\n",
              "    </tr>\n",
              "    <tr>\n",
              "      <th>4</th>\n",
              "      <td>COACH_Shaji</td>\n",
              "      <td>Shaji Kuriakose</td>\n",
              "      <td>58</td>\n",
              "      <td>Mumbai, India</td>\n",
              "      <td>Business Coach  |  Executive Coach  |  Unlocki...</td>\n",
              "      <td>https://t.co/4N3bjCLMCX</td>\n",
              "      <td>2009-06-25</td>\n",
              "    </tr>\n",
              "  </tbody>\n",
              "</table>\n",
              "</div>\n",
              "    <div class=\"colab-df-buttons\">\n",
              "\n",
              "  <div class=\"colab-df-container\">\n",
              "    <button class=\"colab-df-convert\" onclick=\"convertToInteractive('df-b30ce7af-271b-4354-b07e-49509d69dbef')\"\n",
              "            title=\"Convert this dataframe to an interactive table.\"\n",
              "            style=\"display:none;\">\n",
              "\n",
              "  <svg xmlns=\"http://www.w3.org/2000/svg\" height=\"24px\" viewBox=\"0 -960 960 960\">\n",
              "    <path d=\"M120-120v-720h720v720H120Zm60-500h600v-160H180v160Zm220 220h160v-160H400v160Zm0 220h160v-160H400v160ZM180-400h160v-160H180v160Zm440 0h160v-160H620v160ZM180-180h160v-160H180v160Zm440 0h160v-160H620v160Z\"/>\n",
              "  </svg>\n",
              "    </button>\n",
              "\n",
              "  <style>\n",
              "    .colab-df-container {\n",
              "      display:flex;\n",
              "      gap: 12px;\n",
              "    }\n",
              "\n",
              "    .colab-df-convert {\n",
              "      background-color: #E8F0FE;\n",
              "      border: none;\n",
              "      border-radius: 50%;\n",
              "      cursor: pointer;\n",
              "      display: none;\n",
              "      fill: #1967D2;\n",
              "      height: 32px;\n",
              "      padding: 0 0 0 0;\n",
              "      width: 32px;\n",
              "    }\n",
              "\n",
              "    .colab-df-convert:hover {\n",
              "      background-color: #E2EBFA;\n",
              "      box-shadow: 0px 1px 2px rgba(60, 64, 67, 0.3), 0px 1px 3px 1px rgba(60, 64, 67, 0.15);\n",
              "      fill: #174EA6;\n",
              "    }\n",
              "\n",
              "    .colab-df-buttons div {\n",
              "      margin-bottom: 4px;\n",
              "    }\n",
              "\n",
              "    [theme=dark] .colab-df-convert {\n",
              "      background-color: #3B4455;\n",
              "      fill: #D2E3FC;\n",
              "    }\n",
              "\n",
              "    [theme=dark] .colab-df-convert:hover {\n",
              "      background-color: #434B5C;\n",
              "      box-shadow: 0px 1px 3px 1px rgba(0, 0, 0, 0.15);\n",
              "      filter: drop-shadow(0px 1px 2px rgba(0, 0, 0, 0.3));\n",
              "      fill: #FFFFFF;\n",
              "    }\n",
              "  </style>\n",
              "\n",
              "    <script>\n",
              "      const buttonEl =\n",
              "        document.querySelector('#df-b30ce7af-271b-4354-b07e-49509d69dbef button.colab-df-convert');\n",
              "      buttonEl.style.display =\n",
              "        google.colab.kernel.accessAllowed ? 'block' : 'none';\n",
              "\n",
              "      async function convertToInteractive(key) {\n",
              "        const element = document.querySelector('#df-b30ce7af-271b-4354-b07e-49509d69dbef');\n",
              "        const dataTable =\n",
              "          await google.colab.kernel.invokeFunction('convertToInteractive',\n",
              "                                                    [key], {});\n",
              "        if (!dataTable) return;\n",
              "\n",
              "        const docLinkHtml = 'Like what you see? Visit the ' +\n",
              "          '<a target=\"_blank\" href=https://colab.research.google.com/notebooks/data_table.ipynb>data table notebook</a>'\n",
              "          + ' to learn more about interactive tables.';\n",
              "        element.innerHTML = '';\n",
              "        dataTable['output_type'] = 'display_data';\n",
              "        await google.colab.output.renderOutput(dataTable, element);\n",
              "        const docLink = document.createElement('div');\n",
              "        docLink.innerHTML = docLinkHtml;\n",
              "        element.appendChild(docLink);\n",
              "      }\n",
              "    </script>\n",
              "  </div>\n",
              "\n",
              "\n",
              "<div id=\"df-df04b754-64e4-41fc-ae65-95e2900bff7d\">\n",
              "  <button class=\"colab-df-quickchart\" onclick=\"quickchart('df-df04b754-64e4-41fc-ae65-95e2900bff7d')\"\n",
              "            title=\"Suggest charts.\"\n",
              "            style=\"display:none;\">\n",
              "\n",
              "<svg xmlns=\"http://www.w3.org/2000/svg\" height=\"24px\"viewBox=\"0 0 24 24\"\n",
              "     width=\"24px\">\n",
              "    <g>\n",
              "        <path d=\"M19 3H5c-1.1 0-2 .9-2 2v14c0 1.1.9 2 2 2h14c1.1 0 2-.9 2-2V5c0-1.1-.9-2-2-2zM9 17H7v-7h2v7zm4 0h-2V7h2v10zm4 0h-2v-4h2v4z\"/>\n",
              "    </g>\n",
              "</svg>\n",
              "  </button>\n",
              "\n",
              "<style>\n",
              "  .colab-df-quickchart {\n",
              "      --bg-color: #E8F0FE;\n",
              "      --fill-color: #1967D2;\n",
              "      --hover-bg-color: #E2EBFA;\n",
              "      --hover-fill-color: #174EA6;\n",
              "      --disabled-fill-color: #AAA;\n",
              "      --disabled-bg-color: #DDD;\n",
              "  }\n",
              "\n",
              "  [theme=dark] .colab-df-quickchart {\n",
              "      --bg-color: #3B4455;\n",
              "      --fill-color: #D2E3FC;\n",
              "      --hover-bg-color: #434B5C;\n",
              "      --hover-fill-color: #FFFFFF;\n",
              "      --disabled-bg-color: #3B4455;\n",
              "      --disabled-fill-color: #666;\n",
              "  }\n",
              "\n",
              "  .colab-df-quickchart {\n",
              "    background-color: var(--bg-color);\n",
              "    border: none;\n",
              "    border-radius: 50%;\n",
              "    cursor: pointer;\n",
              "    display: none;\n",
              "    fill: var(--fill-color);\n",
              "    height: 32px;\n",
              "    padding: 0;\n",
              "    width: 32px;\n",
              "  }\n",
              "\n",
              "  .colab-df-quickchart:hover {\n",
              "    background-color: var(--hover-bg-color);\n",
              "    box-shadow: 0 1px 2px rgba(60, 64, 67, 0.3), 0 1px 3px 1px rgba(60, 64, 67, 0.15);\n",
              "    fill: var(--button-hover-fill-color);\n",
              "  }\n",
              "\n",
              "  .colab-df-quickchart-complete:disabled,\n",
              "  .colab-df-quickchart-complete:disabled:hover {\n",
              "    background-color: var(--disabled-bg-color);\n",
              "    fill: var(--disabled-fill-color);\n",
              "    box-shadow: none;\n",
              "  }\n",
              "\n",
              "  .colab-df-spinner {\n",
              "    border: 2px solid var(--fill-color);\n",
              "    border-color: transparent;\n",
              "    border-bottom-color: var(--fill-color);\n",
              "    animation:\n",
              "      spin 1s steps(1) infinite;\n",
              "  }\n",
              "\n",
              "  @keyframes spin {\n",
              "    0% {\n",
              "      border-color: transparent;\n",
              "      border-bottom-color: var(--fill-color);\n",
              "      border-left-color: var(--fill-color);\n",
              "    }\n",
              "    20% {\n",
              "      border-color: transparent;\n",
              "      border-left-color: var(--fill-color);\n",
              "      border-top-color: var(--fill-color);\n",
              "    }\n",
              "    30% {\n",
              "      border-color: transparent;\n",
              "      border-left-color: var(--fill-color);\n",
              "      border-top-color: var(--fill-color);\n",
              "      border-right-color: var(--fill-color);\n",
              "    }\n",
              "    40% {\n",
              "      border-color: transparent;\n",
              "      border-right-color: var(--fill-color);\n",
              "      border-top-color: var(--fill-color);\n",
              "    }\n",
              "    60% {\n",
              "      border-color: transparent;\n",
              "      border-right-color: var(--fill-color);\n",
              "    }\n",
              "    80% {\n",
              "      border-color: transparent;\n",
              "      border-right-color: var(--fill-color);\n",
              "      border-bottom-color: var(--fill-color);\n",
              "    }\n",
              "    90% {\n",
              "      border-color: transparent;\n",
              "      border-bottom-color: var(--fill-color);\n",
              "    }\n",
              "  }\n",
              "</style>\n",
              "\n",
              "  <script>\n",
              "    async function quickchart(key) {\n",
              "      const quickchartButtonEl =\n",
              "        document.querySelector('#' + key + ' button');\n",
              "      quickchartButtonEl.disabled = true;  // To prevent multiple clicks.\n",
              "      quickchartButtonEl.classList.add('colab-df-spinner');\n",
              "      try {\n",
              "        const charts = await google.colab.kernel.invokeFunction(\n",
              "            'suggestCharts', [key], {});\n",
              "      } catch (error) {\n",
              "        console.error('Error during call to suggestCharts:', error);\n",
              "      }\n",
              "      quickchartButtonEl.classList.remove('colab-df-spinner');\n",
              "      quickchartButtonEl.classList.add('colab-df-quickchart-complete');\n",
              "    }\n",
              "    (() => {\n",
              "      let quickchartButtonEl =\n",
              "        document.querySelector('#df-df04b754-64e4-41fc-ae65-95e2900bff7d button');\n",
              "      quickchartButtonEl.style.display =\n",
              "        google.colab.kernel.accessAllowed ? 'block' : 'none';\n",
              "    })();\n",
              "  </script>\n",
              "</div>\n",
              "    </div>\n",
              "  </div>\n"
            ],
            "text/plain": [
              "       Username                      Name  Followers                Location  \\\n",
              "0   virtualciti                    Vineet        540              Chandigarh   \n",
              "1   H_P_Alchemy  High Performance Alchemy          5               Bangalore   \n",
              "2  StefanPowell             Stefan Powell       2735  Ventnor, Isle of Wight   \n",
              "3   satishraoBN                Satish Rao        470                   INDIA   \n",
              "4   COACH_Shaji           Shaji Kuriakose         58           Mumbai, India   \n",
              "\n",
              "                                                 Bio            asociated_url  \\\n",
              "0                       I have not told my story yet  https://t.co/LTtK5IvXi3   \n",
              "1  \"The Inner Game\"​ Intervention Professional Tr...  https://t.co/JliyHShlrO   \n",
              "2  Exec & Leadership Coach https://t.co/ubWLzpjjv...  https://t.co/VgEB2WNmgm   \n",
              "3  Changing the world one person at a time. Are y...  https://t.co/ga0VtUcdTJ   \n",
              "4  Business Coach  |  Executive Coach  |  Unlocki...  https://t.co/4N3bjCLMCX   \n",
              "\n",
              "       Joined  \n",
              "0  2009-06-08  \n",
              "1  2023-05-26  \n",
              "2  2009-05-15  \n",
              "3  2012-02-18  \n",
              "4  2009-06-25  "
            ]
          },
          "execution_count": 38,
          "metadata": {},
          "output_type": "execute_result"
        }
      ],
      "source": [
        "df.head(5)"
      ]
    },
    {
      "cell_type": "code",
      "execution_count": null,
      "metadata": {
        "colab": {
          "base_uri": "https://localhost:8080/"
        },
        "id": "UKyBKkY6gXyp",
        "outputId": "e46f58a3-78a1-41e1-e336-986c6ba75f7a"
      },
      "outputs": [
        {
          "data": {
            "text/plain": [
              "datetime.date(2009, 6, 8)"
            ]
          },
          "execution_count": 36,
          "metadata": {},
          "output_type": "execute_result"
        }
      ],
      "source": []
    }
  ],
  "metadata": {
    "colab": {
      "gpuType": "T4",
      "provenance": []
    },
    "kernelspec": {
      "display_name": "Python 3",
      "name": "python3"
    },
    "language_info": {
      "name": "python"
    }
  },
  "nbformat": 4,
  "nbformat_minor": 0
}
